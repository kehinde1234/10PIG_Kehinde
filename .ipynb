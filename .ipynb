{
 "cells": [
  {
   "cell_type": "code",
   "execution_count": 37,
   "metadata": {},
   "outputs": [
    {
     "name": "stdout",
     "output_type": "stream",
     "text": [
      "           Date  Pageviews  Clicks  Enrollments  Payments\n",
      "0   Sat, Oct 11       7723     687        134.0      70.0\n",
      "1   Sun, Oct 12       9102     779        147.0      70.0\n",
      "2   Mon, Oct 13      10511     909        167.0      95.0\n",
      "3   Tue, Oct 14       9871     836        156.0     105.0\n",
      "4   Wed, Oct 15      10014     837        163.0      64.0\n",
      "5   Thu, Oct 16       9670     823        138.0      82.0\n",
      "6   Fri, Oct 17       9008     748        146.0      76.0\n",
      "7   Sat, Oct 18       7434     632        110.0      70.0\n",
      "8   Sun, Oct 19       8459     691        131.0      60.0\n",
      "9   Mon, Oct 20      10667     861        165.0      97.0\n",
      "10  Tue, Oct 21      10660     867        196.0     105.0\n",
      "11  Wed, Oct 22       9947     838        162.0      92.0\n",
      "12  Thu, Oct 23       8324     665        127.0      56.0\n",
      "13  Fri, Oct 24       9434     673        220.0     122.0\n",
      "14  Sat, Oct 25       8687     691        176.0     128.0\n",
      "15  Sun, Oct 26       8896     708        161.0     104.0\n",
      "16  Mon, Oct 27       9535     759        233.0     124.0\n",
      "17  Tue, Oct 28       9363     736        154.0      91.0\n",
      "18  Wed, Oct 29       9327     739        196.0      86.0\n",
      "19  Thu, Oct 30       9345     734        167.0      75.0\n",
      "20  Fri, Oct 31       8890     706        174.0     101.0\n",
      "21   Sat, Nov 1       8460     681        156.0      93.0\n",
      "22   Sun, Nov 2       8836     693        206.0      67.0\n",
      "23   Mon, Nov 3       9437     788          NaN       NaN\n",
      "24   Tue, Nov 4       9420     781          NaN       NaN\n",
      "25   Wed, Nov 5       9570     805          NaN       NaN\n",
      "26   Thu, Nov 6       9921     830          NaN       NaN\n",
      "27   Fri, Nov 7       9424     781          NaN       NaN\n",
      "28   Sat, Nov 8       9010     756          NaN       NaN\n",
      "29   Sun, Nov 9       9656     825          NaN       NaN\n",
      "30  Mon, Nov 10      10419     874          NaN       NaN\n",
      "31  Tue, Nov 11       9880     830          NaN       NaN\n",
      "32  Wed, Nov 12      10134     801          NaN       NaN\n",
      "33  Thu, Nov 13       9717     814          NaN       NaN\n",
      "34  Fri, Nov 14       9192     735          NaN       NaN\n",
      "35  Sat, Nov 15       8630     743          NaN       NaN\n",
      "36  Sun, Nov 16       8970     722          NaN       NaN\n"
     ]
    }
   ],
   "source": [
    "import pandas as pd # Load data \n",
    "from pandas import DataFrame\n",
    "import matplotlib.pyplot as plt\n",
    "\n",
    "df = pd.read_excel (r'C:\\Users\\Admin\\Downloads\\UdacityABtesting.xlsx')\n",
    "print (df)"
   ]
  },
  {
   "cell_type": "code",
   "execution_count": 17,
   "metadata": {},
   "outputs": [
    {
     "data": {
      "text/html": [
       "<div>\n",
       "<style scoped>\n",
       "    .dataframe tbody tr th:only-of-type {\n",
       "        vertical-align: middle;\n",
       "    }\n",
       "\n",
       "    .dataframe tbody tr th {\n",
       "        vertical-align: top;\n",
       "    }\n",
       "\n",
       "    .dataframe thead th {\n",
       "        text-align: right;\n",
       "    }\n",
       "</style>\n",
       "<table border=\"1\" class=\"dataframe\">\n",
       "  <thead>\n",
       "    <tr style=\"text-align: right;\">\n",
       "      <th></th>\n",
       "      <th>Date</th>\n",
       "      <th>Pageviews</th>\n",
       "      <th>Clicks</th>\n",
       "      <th>Enrollments</th>\n",
       "      <th>Payments</th>\n",
       "    </tr>\n",
       "  </thead>\n",
       "  <tbody>\n",
       "    <tr>\n",
       "      <th>count</th>\n",
       "      <td>37</td>\n",
       "      <td>37.000000</td>\n",
       "      <td>37.000000</td>\n",
       "      <td>23.000000</td>\n",
       "      <td>23.000000</td>\n",
       "    </tr>\n",
       "    <tr>\n",
       "      <th>unique</th>\n",
       "      <td>37</td>\n",
       "      <td>NaN</td>\n",
       "      <td>NaN</td>\n",
       "      <td>NaN</td>\n",
       "      <td>NaN</td>\n",
       "    </tr>\n",
       "    <tr>\n",
       "      <th>top</th>\n",
       "      <td>Sun, Oct 26</td>\n",
       "      <td>NaN</td>\n",
       "      <td>NaN</td>\n",
       "      <td>NaN</td>\n",
       "      <td>NaN</td>\n",
       "    </tr>\n",
       "    <tr>\n",
       "      <th>freq</th>\n",
       "      <td>1</td>\n",
       "      <td>NaN</td>\n",
       "      <td>NaN</td>\n",
       "      <td>NaN</td>\n",
       "      <td>NaN</td>\n",
       "    </tr>\n",
       "    <tr>\n",
       "      <th>mean</th>\n",
       "      <td>NaN</td>\n",
       "      <td>9339.000000</td>\n",
       "      <td>766.972973</td>\n",
       "      <td>164.565217</td>\n",
       "      <td>88.391304</td>\n",
       "    </tr>\n",
       "    <tr>\n",
       "      <th>std</th>\n",
       "      <td>NaN</td>\n",
       "      <td>740.239563</td>\n",
       "      <td>68.286767</td>\n",
       "      <td>29.977000</td>\n",
       "      <td>20.650202</td>\n",
       "    </tr>\n",
       "    <tr>\n",
       "      <th>min</th>\n",
       "      <td>NaN</td>\n",
       "      <td>7434.000000</td>\n",
       "      <td>632.000000</td>\n",
       "      <td>110.000000</td>\n",
       "      <td>56.000000</td>\n",
       "    </tr>\n",
       "    <tr>\n",
       "      <th>25%</th>\n",
       "      <td>NaN</td>\n",
       "      <td>8896.000000</td>\n",
       "      <td>708.000000</td>\n",
       "      <td>146.500000</td>\n",
       "      <td>70.000000</td>\n",
       "    </tr>\n",
       "    <tr>\n",
       "      <th>50%</th>\n",
       "      <td>NaN</td>\n",
       "      <td>9420.000000</td>\n",
       "      <td>759.000000</td>\n",
       "      <td>162.000000</td>\n",
       "      <td>91.000000</td>\n",
       "    </tr>\n",
       "    <tr>\n",
       "      <th>75%</th>\n",
       "      <td>NaN</td>\n",
       "      <td>9871.000000</td>\n",
       "      <td>825.000000</td>\n",
       "      <td>175.000000</td>\n",
       "      <td>102.500000</td>\n",
       "    </tr>\n",
       "    <tr>\n",
       "      <th>max</th>\n",
       "      <td>NaN</td>\n",
       "      <td>10667.000000</td>\n",
       "      <td>909.000000</td>\n",
       "      <td>233.000000</td>\n",
       "      <td>128.000000</td>\n",
       "    </tr>\n",
       "  </tbody>\n",
       "</table>\n",
       "</div>"
      ],
      "text/plain": [
       "               Date     Pageviews      Clicks  Enrollments    Payments\n",
       "count            37     37.000000   37.000000    23.000000   23.000000\n",
       "unique           37           NaN         NaN          NaN         NaN\n",
       "top     Sun, Oct 26           NaN         NaN          NaN         NaN\n",
       "freq              1           NaN         NaN          NaN         NaN\n",
       "mean            NaN   9339.000000  766.972973   164.565217   88.391304\n",
       "std             NaN    740.239563   68.286767    29.977000   20.650202\n",
       "min             NaN   7434.000000  632.000000   110.000000   56.000000\n",
       "25%             NaN   8896.000000  708.000000   146.500000   70.000000\n",
       "50%             NaN   9420.000000  759.000000   162.000000   91.000000\n",
       "75%             NaN   9871.000000  825.000000   175.000000  102.500000\n",
       "max             NaN  10667.000000  909.000000   233.000000  128.000000"
      ]
     },
     "execution_count": 17,
     "metadata": {},
     "output_type": "execute_result"
    }
   ],
   "source": [
    "df.describe(include= \"all\") # exporing data "
   ]
  },
  {
   "cell_type": "code",
   "execution_count": 24,
   "metadata": {},
   "outputs": [],
   "source": [
    "x= DataFrame(df, columns=['Enrollments'])\n",
    "y= DataFrame(df, columns=['Pageviews'])\n"
   ]
  },
  {
   "cell_type": "code",
   "execution_count": 36,
   "metadata": {},
   "outputs": [
    {
     "data": {
      "text/plain": [
       "Text(0.5, 1.0, 'Enrollments vs Pageviews')"
      ]
     },
     "execution_count": 36,
     "metadata": {},
     "output_type": "execute_result"
    },
    {
     "data": {
      "image/png": "[encoded data removed]",
      "text/plain": [
       "<Figure size 576x288 with 1 Axes>"
      ]
     },
     "metadata": {
      "needs_background": "light"
     },
     "output_type": "display_data"
    }
   ],
   "source": [
    "plt.figure(figsize=(8,4))\n",
    "plt.scatter(x,y)#visualization; using scatter chart for enrollments and pageviews\n",
    "plt.title('Enrollments vs Pageviews')"
   ]
  },
  {
   "cell_type": "code",
   "execution_count": 34,
   "metadata": {},
   "outputs": [],
   "source": [
    "matplotlib.pyplot.show()"
   ]
  },
  {
   "cell_type": "code",
   "execution_count": null,
   "metadata": {},
   "outputs": [],
   "source": []
  }
 ],
 "metadata": {
  "kernelspec": {
   "display_name": "Python 3",
   "language": "python",
   "name": "python3"
  },
  "language_info": {
   "codemirror_mode": {
    "name": "ipython",
    "version": 3
   },
   "file_extension": ".py",
   "mimetype": "text/x-python",
   "name": "python",
   "nbconvert_exporter": "python",
   "pygments_lexer": "ipython3",
   "version": "3.7.1"
  }
 },
 "nbformat": 4,
 "nbformat_minor": 2
}
